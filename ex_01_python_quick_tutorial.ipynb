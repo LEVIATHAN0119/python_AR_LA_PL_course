
print('Hello teacher!')#print(""或'')
Hello teacher!
print('_'*50)
__________________________________________________
print("希望再也不包夜!")
希望再也不包夜!
print("Everybody should learn how to code a computer, because it teaches you how to think, and allows designers more creative!")
Everybody should learn how to code a computer, because it teaches you how to think, and allows designers more creative!
print("加：",3+3)
print("减：",3-1)
print("整除：", 3//2)
print("余数：", 3%2)
print("幂：",3**3)
加： 6
减： 2
整除： 1
余数： 1
幂： 27
x=5#注意顺序
func=4*x+5
print(func)
25
x=9
func=3*x+1
print('func=',func)
print('func={:.2f}'.format(func))#format(),func={:.2f},{}是标明被替换的字符串，后面匹配format（‘’）中的‘’，.2f表示后面两位小数,中间：相连
func= 28
func=28.00
city_name="Xi'an"#经纬度,空格用-连
coordinate_longitude=108.942292
coordiante_latitude=34.261013
print("The longitude of the Xi'an coordinate is {lon:.2f}, and the latitude is {lat:.2f}.".format(lon=coordinate_longitude,lat=coordiante_latitude))
The longitude of the Xi'an coordinate is 108.94, and the latitude is 34.26.
x,y,z=1,2,3
func=2*x+3*y-4*z
print('func={}'.format(x,y,z,func))#第一个括号print()，第二个括号format（）在里面，第三个括号{}是format的取代量
func=1
print('_'*50)
__________________________________________________
print('数据结构类型')
print('基础数据类型：list列表，tuple元组，dict字典，str字符串')
数据结构类型
基础数据类型：list列表，tuple元组，dict字典，str字符串
print('_'*50)
__________________________________________________
print("list（列表）章节")
list（列表）章节
lst=list(range(5,20,3)) #建立列表lst=list()。range(start,stop,[,step])建立区间。开始算，结束不算上，步数直接加
print(lst)
print("The list length={}".format(len(lst)))#len长度
print("Maximum value={}".format(max(lst)))
print("Minimum value={}".format(min(lst)))
​
[5, 8, 11, 14, 17]
The list length=5
Maximum value=17
Minimum value=5
lst_1=list(map(chr,range(100,110)))#map：用相同方法把所有数据都改成别的，映射。chr（）用一个范围在range（256）内（也就是0到255）整数做参数，返回一个对应的字符
print(lst_1)
print("_"*50)
print("[3:6]->{}".format(lst_1[3:6]))#lst[3:6]表示lst的3，4，5个，6不算入内
print("[-3:-1]->{}".format(lst_1[-3:-1]))#list中第一个是0，最后一个是-1
print("[-3:]->{}".format(lst_1[-3:]))#[-3:]为-3到-1位
print("[:3]->{}".format(lst_1[:3]))
print("[:]->{}".format(lst_1[:]))
​
['d', 'e', 'f', 'g', 'h', 'i', 'j', 'k', 'l', 'm']
__________________________________________________
[3:6]->['g', 'h', 'i']
[-3:-1]->['k', 'l']
[-3:]->['k', 'l', 'm']
[:3]->['d', 'e', 'f']
[:]->['d', 'e', 'f', 'g', 'h', 'i', 'j', 'k', 'l', 'm']
help(map) #用help()方法查看说明
Help on class map in module builtins:

class map(object)
 |  map(func, *iterables) --> map object
 |  
 |  Make an iterator that computes the function using arguments from
 |  each of the iterables.  Stops when the shortest iterable is exhausted.
 |  
 |  Methods defined here:
 |  
 |  __getattribute__(self, name, /)
 |      Return getattr(self, name).
 |  
 |  __iter__(self, /)
 |      Implement iter(self).
 |  
 |  __next__(self, /)
 |      Implement next(self).
 |  
 |  __reduce__(...)
 |      Return state information for pickling.
 |  
 |  ----------------------------------------------------------------------
 |  Static methods defined here:
 |  
 |  __new__(*args, **kwargs) from builtins.type
 |      Create and return a new object.  See help(type) for accurate signature.

help(ord) 
Help on built-in function ord in module builtins:

ord(c, /)
    Return the Unicode code point for a one-character string.

help(chr)
Help on built-in function chr in module builtins:

chr(i, /)
    Return a Unicode string of one character with ordinal i; 0 <= i <= 0x10ffff.

print(lst_1)
print("_"*50)
lst_1[5]=99 #元素赋值,把0之后的5换成了99，#lst后加[]
print("lst_1[5]=99->{}".format(lst_1))
lst_none=lst_1+[None]*6
print("lst_1+[None]*6->{}".format(lst_none))
lst_none[13]=2015
print("lst_none[13]=2015->{}".format(lst_none))
lst_none[-6:-3]=list(range(100,104,2)) #分片赋值
print("lst_none[-6:-3]=list(range(100,104,2))->{}".format(lst_none[-6:-3]))
lst_none[1:1]=[0,0,0,12]#[1:1]表示在第一个前且在第一个前结尾
print("lst_none[1:1]=[0,0,0,12]->{}".format(lst_none))
del lst_none[-2:] #删除元素
print("del lst_none[-2:]->{}".format(lst_none))#删除：del
​
['d', 'e', 'f', 'g', 'h', 99, 'j', 'k', 'l', 'm']
__________________________________________________
lst_1[5]=99->['d', 'e', 'f', 'g', 'h', 99, 'j', 'k', 'l', 'm']
lst_1+[None]*6->['d', 'e', 'f', 'g', 'h', 99, 'j', 'k', 'l', 'm', None, None, None, None, None, None]
lst_none[13]=2015->['d', 'e', 'f', 'g', 'h', 99, 'j', 'k', 'l', 'm', None, None, None, 2015, None, None]
lst_none[-6:-3]=list(range(100,104,2))->['m', 100, 102]
lst_none[1:1]=[0,0,0,12]->['d', 0, 0, 0, 12, 'e', 'f', 'g', 'h', 99, 'j', 'k', 'l', 'm', 100, 102, 2015, None, None]
del lst_none[-2:]->['d', 0, 0, 0, 12, 'e', 'f', 'g', 'h', 99, 'j', 'k', 'l', 'm', 100, 102, 2015]
print('_'*50)
__________________________________________________
lst_2=list(map(chr,range(100,105)))#map:把函数与list对应，把list的数带入对应函数，得出新的list
print(lst_2)
['d', 'e', 'f', 'g', 'h']
lst_2=list(map(chr,range(100,105)))#map:把函数与list对应，把list的数带入对应函数，得出新的list
print(lst_2)
print('_'*50)
lst_2.append(99)#append加入在最后
print("lst_2.append(99)->{}".format(lst_2.append(99)))#format(写没append之前的)
print("lst_2.append(99)->{}".format(lst_2))
print("lst_2.append(99)->{}".format(lst_2))
print("lst_2.append(99,99)->{}".format(lst_2))
['d', 'e', 'f', 'g', 'h']
__________________________________________________
lst_2.append(99)->None
lst_2.append(99)->['d', 'e', 'f', 'g', 'h', 99, 99]
lst_2.append(99)->['d', 'e', 'f', 'g', 'h', 99, 99]
lst_2.append(99,99)->['d', 'e', 'f', 'g', 'h', 99, 99]
lst_2=list(map(chr,range(100,105)))#map:把函数与list对应，把list的数带入对应函数，得出新的list
print(lst_2)
print('_'*50)
lst_2.append(99)#append加入在最后
print("lst_2.append(99)->{}".format(lst_2))
['d', 'e', 'f', 'g', 'h']
__________________________________________________
lst_2.append(99)->['d', 'e', 'f', 'g', 'h', 99]
lst_2=list(map(chr,range(100,105)))#map:把函数与list对应，把list的数带入对应函数，得出新的list
print(lst_2)
print('_'*50)
lst_2.append(list(range(50,80,5)))
print("lst_2.append(list(range(50,80,5)))->{}".format(lst_2))#直接加list格式：[value1,value2,value3,……]
['d', 'e', 'f', 'g', 'h']
__________________________________________________
lst_2.append(list(range(50,80,5)))->['d', 'e', 'f', 'g', 'h', [50, 55, 60, 65, 70, 75]]
lst_2=list(map(chr,range(100,105)))#map:把函数与list对应，把list的数带入对应函数，得出新的list
print(lst_2)
print('_'*50)
lst_spechars=['1','2','3']#spechars指'spechars',但可以不用这个指代，如下lst_s,spechars只为了后期便于理解
lst_2.extend(lst_spechars)
print("lst_2.extend(lst_spechars)->{}".format(lst_2))
['d', 'e', 'f', 'g', 'h']
__________________________________________________
lst_2.extend(lst_spechars)->['d', 'e', 'f', 'g', 'h', '1', '2', '3']
lst_2=list(map(chr,range(100,105)))#map:把函数与list对应，把list的数带入对应函数，得出新的list
print(lst_2)
print('_'*50)
lst_s=['1','2','3']
lst_2.extend(lst_s)
print("lst_2.extend(lst_s)->{}".format(lst_2))
['d', 'e', 'f', 'g', 'h']
__________________________________________________
lst_2.extend(lst_s)->['d', 'e', 'f', 'g', 'h', '1', '2', '3']
lst_2=list(map(chr,range(100,105)))#map:把函数与list对应，把list的数带入对应函数，得出新的list
print(lst_2)
print('_'*50)
lst_s=['1','2','3']
lst_2.append(lst_s)
print("lst_2.append(lst_s)->{}".format(lst_2))
['d', 'e', 'f', 'g', 'h']
__________________________________________________
lst_2.append(lst_s)->['d', 'e', 'f', 'g', 'h', ['1', '2', '3']]
print("见上，append加的是带上[]的整个list，extend加的是里面的")
见上，append加的是带上[]的整个list，expend加的是里面的
lst_2=list(map(chr,range(100,105)))#map:把函数与list对应，把list的数带入对应函数，得出新的list
print(lst_2)
print('_'*50)
lst_a=[1,2,3]
lst_2.extend(lst_a)
print("lst_2.extend(lst_a)->{}".format(lst_2))
['d', 'e', 'f', 'g', 'h']
__________________________________________________
lst_2.extend(lst_a)->['d', 'e', 'f', 'g', 'h', 1, 2, 3]
print("extend是加的list里面的[],是否有''看list里面元素是否有''")
extend是加的list里面的[],是否有''看list里面元素是否有''
lst_2=list(map(chr,range(100,105)))#count数数
print("lst_2.count('e')={}".format(lst_2.count('e')))
lst_2.count('e')=1
lst_2=list(map(chr,range(100,105)))#index索引
print("lst_2.index('e')={}".format(lst_2.index('e')))
lst_2.index('e')=1
lst_2=list(map(chr,range(100,105)))
lst_2.insert(2,[1,2,3])#insert插入
print("lst_2.insert(2,[1,2,3])->{}".format(lst_2))
lst_2.insert(2,[1,2,3])->['d', 'e', [1, 2, 3], 'f', 'g', 'h']
lst_2=list(map(chr,range(100,105)))
lst_s=[1,2,3]
lst_2.append(lst_s)
print("lst_2.append(lst_s)->{}".format(lst_2))#append放最后，insert可选择在哪之后放
lst_2.append(lst_s)->['d', 'e', 'f', 'g', 'h', [1, 2, 3]]
lst_2=list(map(chr,range(100,105)))
print("lst_2.pop(4)_popup->{}".format(lst_2.pop(4)))
lst_2.pop(4)_popup->h
lst_s_2=list(map(chr,range(100,105)))
print(lst_s_2)
print("_"*50)
lst_s_2.append(99)
print("lst_s_2.append(99)->{}".format(lst_s_2))
lst_s_2.append(list(range(50,80,5)))
print("lst_s_2.append(list(range(50,80,5)))->{}".format(lst_s_2))
lst_spechars=['*',')','*']
lst_s_2.extend(lst_spechars)
print("lst_s_2.extend(lst_spechars)->{}".format(lst_s_2))
print("lst_s_2.count('*')={}".format(lst_s_2.count('*')))
print("lst_s_2.index('e')={}".format(lst_s_2.index('e')))
lst_s_2.insert(2,[1000,1200,1500])
print("lst_s_2.insert(2,[1000,1200,1500])->{}".format(lst_s_2))
print("lst_s_2.pop(7)_popup->{}".format(lst_s_2.pop(7)))
['d', 'e', 'f', 'g', 'h']
__________________________________________________
lst_s_2.append(99)->['d', 'e', 'f', 'g', 'h', 99]
lst_s_2.append(list(range(50,80,5)))->['d', 'e', 'f', 'g', 'h', 99, [50, 55, 60, 65, 70, 75]]
lst_s_2.extend(lst_spechars)->['d', 'e', 'f', 'g', 'h', 99, [50, 55, 60, 65, 70, 75], '*', ')', '*']
lst_s_2.count('*')=2
lst_s_2.index('e')=1
lst_s_2.insert(2,[1000,1200,1500])->['d', 'e', [1000, 1200, 1500], 'f', 'g', 'h', 99, [50, 55, 60, 65, 70, 75], '*', ')', '*']
lst_s_2.pop(7)_popup->[50, 55, 60, 65, 70, 75]
print（"lst.pop(n)_popup意思是弹出，删的只剩下第n个元素，[1,2,3]若在list里面就算一个元素"）
lst_2=list(map(chr,range(100,105)))#retention保留滞留，format里面如果是lst_2.pop(3)，则是提取出第三个
print("lst_2.pop(3)_retention->{}".format(lst_2.pop(3)))
lst_2.pop(3)_retention->g
lst_2=list(map(chr,range(100,105)))#retention保留滞留
print("lst_2->{}".format(lst_2))
print("lst_2.pop(3)_retention->{}".format(lst_2))
lst_2->['d', 'e', 'f', 'g', 'h']
lst_2.pop(3)_retention->['d', 'e', 'f', 'g', 'h']
lst_2=list(map(chr,range(100,105)))#retention保留滞留
print("lst_2->{}".format(lst_2))
lst_2.insert(2,[1,2,3])#insert插入
print("lst_2.insert(2,[1,2,3])->{}".format(lst_2))
print("lst_2.pop(3)_retention->{}".format(lst_2))
lst_2->['d', 'e', 'f', 'g', 'h']
lst_2.insert(2,[1,2,3])->['d', 'e', [1, 2, 3], 'f', 'g', 'h']
lst_2.pop(3)_retention->['d', 'e', [1, 2, 3], 'f', 'g', 'h']
lst_s_2=list(map(chr,range(100,105)))
print(lst_s_2)
print("_"*50)
lst_s_2.append(99)
print("lst_s_2.append(99)->{}".format(lst_s_2))
lst_s_2.append(list(range(50,80,5)))
print("lst_s_2.append(list(range(50,80,5)))->{}".format(lst_s_2))
lst_spechars=['*',')','*']
lst_s_2.extend(lst_spechars)
print("lst_s_2.extend(lst_spechars)->{}".format(lst_s_2))
print("lst_s_2.count('*')={}".format(lst_s_2.count('*')))
print("lst_s_2.index('e')={}".format(lst_s_2.index('e')))
lst_s_2.insert(2,[1000,1200,1500])
print("lst_s_2.insert(2,[1000,1200,1500])->{}".format(lst_s_2))
print("lst_s_2.pop(7)_popup->{}".format(lst_s_2.pop(7)))
print("lst_s_2.pop(7)_retention->{}".format(lst_s_2))
['d', 'e', 'f', 'g', 'h']
__________________________________________________
lst_s_2.append(99)->['d', 'e', 'f', 'g', 'h', 99]
lst_s_2.append(list(range(50,80,5)))->['d', 'e', 'f', 'g', 'h', 99, [50, 55, 60, 65, 70, 75]]
lst_s_2.extend(lst_spechars)->['d', 'e', 'f', 'g', 'h', 99, [50, 55, 60, 65, 70, 75], '*', ')', '*']
lst_s_2.count('*')=2
lst_s_2.index('e')=1
lst_s_2.insert(2,[1000,1200,1500])->['d', 'e', [1000, 1200, 1500], 'f', 'g', 'h', 99, [50, 55, 60, 65, 70, 75], '*', ')', '*']
lst_s_2.pop(7)_popup->[50, 55, 60, 65, 70, 75]
lst_s_2.pop(7)_retention->['d', 'e', [1000, 1200, 1500], 'f', 'g', 'h', 99, '*', ')', '*']
lst_2=list(map(chr,range(100,105)))#map:把函数与list对应，把list的数带入对应函数，得出新的list
print(lst_2)
print('_'*50)
lst_2=list(map(chr,range(100,105)))
lst_2.insert(2,[1,2,3])#insert插入
print("lst_2.insert(2,[1,2,3])->{}".format(lst_2))
print("lst_2.pop(2)_popup->{}".format(lst_2.pop(2)))
print("lst_2.pop(2)_retention->{}".format(lst_2))
['d', 'e', 'f', 'g', 'h']
__________________________________________________
lst_2.insert(2,[1,2,3])->['d', 'e', [1, 2, 3], 'f', 'g', 'h']
lst_2.pop(2)_popup->[1, 2, 3]
lst_2.pop(2)_retention->['d', 'e', 'f', 'g', 'h']
print("retention保留滞留，")
print("format里面如果是lst_2.pop(3)，则是提取出第三个元素")
print("retention如果要发挥保留作用，前面要popup，且要和lst.pop(n)的n保持一致")
retention保留滞留，
format里面如果是lst_2.pop(3)，则是提取出第三个元素
retention如果要发挥保留作用，前面要popup，且要和lst.pop(n)的n保持一致
lst_2=list(map(chr,range(100,105)))#map:把函数与list对应，把list的数带入对应函数，得出新的list
print(lst_2)
print('_'*50)
lst_a=[1,2,3,1]
lst_2.extend(lst_a)
print("lst_2.extend(lst_a)->{}".format(lst_2))
lst_2.remove(1)
print("lst_2.remove(1)_retention->{}".format(lst_2))
['d', 'e', 'f', 'g', 'h']
__________________________________________________
lst_2.extend(lst_a)->['d', 'e', 'f', 'g', 'h', 1, 2, 3, 1]
lst_2.remove(1)_retention->['d', 'e', 'f', 'g', 'h', 2, 3, 1]
lst_3=[2,42,6,95,4,3]
lst_3.sort()#sort排序
print("lst_3.sort()->{}".format(lst_3))
lst_3.sort()->[2, 3, 4, 6, 42, 95]
print('_'*50)
__________________________________________________
print("tuple（元组）章节")
tuple（元组）章节
tuple_1=1,2,3,#tuple=value1,value2,value3,   中间与列表一样由“，”号隔开，最后也需要点逗号，使用结果即加括号，结果全变（value1，value2，value3……）
print("tuple_1=1,2,3,->{}".format(tuple_1))
print("3*(20*1,)->{}".format(3*(20*1,)))
print("tuple((1,2,3))->{}".format(tuple((1,2,3))))#tuple（（））结果为（）
print("tuple([1,2,3])->{}".format(tuple([1,2,3])))#tuple([]),结果去【】
tuple_1=1,2,3,->(1, 2, 3)
3*(20*1,)->(20, 20, 20)
tuple((1,2,3))->(1, 2, 3)
tuple([1,2,3])->(1, 2, 3)
print('_'*50)
__________________________________________________
print("dic章节")
dic章节
print("dictionary={ke0:value0,key1:value1,key2:value2,...}，")
print("key:键，value值，'key:value','key1,key2'")
print("key与value可以是数字、字符串、元组，且每一组键/值没有固定顺序。")
print("dic可以使用键寻找值，ps：list：计算项值位置的索引值再提取项值。")
dictionary={ke0:value0,key1:value1,key2:value2,...}，
key:键，value值，'key:value','key1,key2'
key与value可以是数字、字符串、元组，且每一组键/值没有固定顺序。
dic可以使用键寻找值，ps：list：计算项值位置的索引值再提取项值。
import random
items=[(0,[i for i in range(4)]),(1,[random.sample(list(range(100,200,1)),3)]),(2,'python')] #[i for i in range(n)] 为列表推导式,0开始有n个数，形成[0,1,2,3,……]
print("items->{}".format(items))
dic=dict(items)
print("dic=dict(items)->{}".format(dic))
print("dic[1]->{}".format(dic[1]))
items->[(0, [0, 1, 2, 3]), (1, [[171, 139, 102]]), (2, 'python')]
dic=dict(items)->{0: [0, 1, 2, 3], 1: [[171, 139, 102]], 2: 'python'}
dic[1]->[[171, 139, 102]]
items=[(0,1),(1,2),(2,3)]
print("items->{}".format(items))
dic=dict(items)
print("dic=dict(items)->{}".format(dic))
print("dic[2]->{}".format(dic[2]))
items->[(0, 1), (1, 2), (2, 3)]
dic=dict(items)->{0: 1, 1: 2, 2: 3}
dic[2]->3
import random
items=[(0,[i for i in range(4)]),(1,[random.sample(list(range(100,200,1)),3)]),(2,'python')] #[i for i in range(n)] 为列表推导式,0开始有n个数，形成[0,1,2,3,……]
print("items->{}".format(items))
dic=dict(items)
print("dic=dict(items)->{}".format(dic))
print("dic[1]->{}".format(dic[1]))
print("len(dic)->{}".format(len(dic)))
dic[3]=(random.random(),random.uniform(200,300))
print("dic[3]=(random.random(),random.uniform(200,300))->{}".format(dic))#随机数
del dic[1]
print("del dic[1]->{}".format(dic))
print("3 in dic->{}".format(3 in dic))#确认是否在dic内
print("5 in dic->{}".format(5 in dic))
print("dic.keys()->{}".format(dic.keys())) #提炼出dict中的key，注意dic.keys()的（）
print("dic.values()->{}".format(dic.values()))#提炼出dict中的values
print("dic.items()->{}".format(dic.items()))#回到items
print("_"*50)
print("list(dic.keys())->{}".format(list(dic.keys()))) #提炼出dict中的key
items->[(0, [0, 1, 2, 3]), (1, [[156, 105, 145]]), (2, 'python')]
dic=dict(items)->{0: [0, 1, 2, 3], 1: [[156, 105, 145]], 2: 'python'}
dic[1]->[[156, 105, 145]]
len(dic)->3
dic[3]=(random.random(),random.uniform(200,300))->{0: [0, 1, 2, 3], 1: [[156, 105, 145]], 2: 'python', 3: (0.4181294959356483, 207.995933857758)}
del dic[1]->{0: [0, 1, 2, 3], 2: 'python', 3: (0.4181294959356483, 207.995933857758)}
3 in dic->True
5 in dic->False
dic.keys()->dict_keys([0, 2, 3])
dic.values()->dict_values([[0, 1, 2, 3], 'python', (0.4181294959356483, 207.995933857758)])
dic.items()->dict_items([(0, [0, 1, 2, 3]), (2, 'python'), (3, (0.4181294959356483, 207.995933857758))])
__________________________________________________
list(dic.keys())->[0, 2, 3]
for q,w in enumerate(dic.items()): #for循环,enumerate列举，里面dic.items()。
    print(q,w)
0 (0, [0, 1, 2, 3])
1 (2, 'python')
2 (3, (0.4181294959356483, 207.995933857758))
lst_A=list(range(6,20,3))
lst_B=list(range(100,150,15))
print("lst_A={},lst_B={}".format(lst_A,lst_B))#依次
dic_2={0:lst_A,1:lst_B}
print("dic_2={}".format(dic_2))
print("_"*50)
dic_assignment=dic_2
print("dic_assignment={}".format(dic_assignment))
dic_2.clear()#清理全部
print("dic_2.clear()->{}".format(dic_2))
print("dic_assignment={}".format(dic_assignment))
dic_2[5]=list(range(1,9,2))#【5】对应第五项，即定义第五项为该list
print("dic_2[5]=list(range(1,9,2))->{}".format(dic_2))#format里面为原dic
dic_copy=dic_2.copy()
print("dic_copy=dic_2.copy()->{}".format(dic_copy))
dic_2[8]=[5,7]
print("dic_2[8]=[5,7]->{}".format(dic_2))
print("dic_copy={}".format(dic_copy))
dic_copy[5].remove(5)#remove(5)只清楚第五个键
print("dic_copy[5].remove(5)->{}".format(dic_copy))
dic_copy.setdefault(6,[77,99]) #返回指定键的值，如果不存在该键，则字典增加新的键/值对
print("dic_copy.setdefault(6,[77,99])->{}".format(dic_copy))
dic_2.pop(5) #移除指定键/值，并返回该值
print("dic_2.pop(5)->{}".format(dic_2))
dic_update={8:[5,7,6,3,2],9:[3,2,33,55,66]}
print("dic_update={}".format(dic_update))
dic_2.update(dic_update) #更新部分之前的键和值
print("dic_2.update(dic_update)->{}".format(dic_2))#更新dic_2
print("dic_2.get(9)->{}".format(dic_2.get(9)))
dic_2.popitem() #弹出前面所写一对键、值，并在该字典中移除
print("dic_2.popitem()->{}".format(dic_2))
dic_3={}.fromkeys([0,1,2,3,4,'A']) #给定键，建立值为空的字典
print("dic_3={}"+".fromkeys([0,1,2,3,4,'A'])->{}".format(dic_3)) 
lst_A=[6, 9, 12, 15, 18],lst_B=[100, 115, 130, 145]
dic_2={0: [6, 9, 12, 15, 18], 1: [100, 115, 130, 145]}
__________________________________________________
dic_assignment={0: [6, 9, 12, 15, 18], 1: [100, 115, 130, 145]}
dic_2.clear()->{}
dic_assignment={}
dic_2[5]=list(range(1,9,2))->{5: [1, 3, 5, 7]}
dic_copy=dic_2.copy()->{5: [1, 3, 5, 7]}
dic_2[8]=[5,7]->{5: [1, 3, 5, 7], 8: [5, 7]}
dic_copy={5: [1, 3, 5, 7]}
dic_copy[5].remove(5)->{5: [1, 3, 7]}
dic_copy.setdefault(6,[77,99])->{5: [1, 3, 7], 6: [77, 99]}
dic_2.pop(5)->{8: [5, 7]}
dic_update={8: [5, 7, 6, 3, 2], 9: [3, 2, 33, 55, 66]}
dic_2.update(dic_update)->{8: [5, 7, 6, 3, 2], 9: [3, 2, 33, 55, 66]}
dic_2.get(9)->[3, 2, 33, 55, 66]
dic_2.popitem()->{8: [5, 7, 6, 3, 2]}
dic_3={}.fromkeys([0,1,2,3,4,'A'])->{0: None, 1: None, 2: None, 3: None, 4: None, 'A': None}
print('_'*50)
print("string章节")
string章节
lst_3=list("Hello Python!")
print("lst_3=list(\"Hello Python!\")->{}".format(lst_3)) #"\" escape character换码字符，分成各个''
print("\"Hellow\"+\" Python!\"->{}".format("Hellow"+" Python!"))
print("\"+\".join(str(123456))->{}".format("+".join(str(123456))))
print("len(\"Hellow Python!\")->{}".format(len("Hellow Python!")))
coordinates="120.132007,30.300508,9.7"
print("coordinates.split(\",\")->{}".format(coordinates.split(",")))
print("eval(coordinates)->{}".format(eval(coordinates))) #用eval()方法将字符串，转换为对应数值形式；
print("\"Hello Python!\".lower()->{}".format("Hello Python!".lower()))#小写
print("\"Hello Python!\".upper()->{}".format("Hello Python!".upper()))#大写
print("\"Hello Python!\"[6:]->{}".format("Hello Python!"[6:]))#6到最后
print("\"    Hello Python!    \".strip()->{}".format("    Hello Python!    ".strip()))#strip去除 去除空格
print("\"Hello Python!\".replace(\"Python\",\"Grasshopper\")->{}".format("Hello Python!".replace("Python","Grasshopper")))#第一个：被替换的，第二个替换的
hello_lst=list("Hello Python!")
hello_lst.sort()#sort排序
print("hello_lst.sort()>{}".format(hello_lst))
print("\"Hello Python!\".find(\"Py\")->{}".format("Hello Python!".find("Py")))#找其位置
lst_3=list("Hello Python!")->['H', 'e', 'l', 'l', 'o', ' ', 'P', 'y', 't', 'h', 'o', 'n', '!']
"Hellow"+" Python!"->Hellow Python!
"+".join(str(123456))->1+2+3+4+5+6
len("Hellow Python!")->14
coordinates.split(",")->['120.132007', '30.300508', '9.7']
eval(coordinates)->(120.132007, 30.300508, 9.7)
"Hello Python!".lower()->hello python!
"Hello Python!".upper()->HELLO PYTHON!
"Hello Python!"[6:]->Python!
"    Hello Python!    ".strip()->Hello Python!
"Hello Python!".replace("Python","Grasshopper")->Hello Grasshopper!
hello_lst.sort()>[' ', '!', 'H', 'P', 'e', 'h', 'l', 'l', 'n', 'o', 'o', 't', 'y']
"Hello Python!".find("Py")->6
format_str_3="%10f,%10.2f,%.2f,%.5s,%.*s,%d,%x,%f"
new_str_3=format_str_3%(1/3,1/6,1/9,"Hello Python!",5,"Hello Python!",52,52,1/12)
print("{}".format(new_str_3))
  0.333333,      0.17,0.11,Hello,Hello,52,34,0.083333
from string import Template#Template()函数-模板字符串+$+st.substitute()
s_template_1=Template("$x,glorious,$x!")
s_1=s_template_1.substitute(x="Python")
print("s_1=s_template_1.substitute(x=\"Python\")->{}".format(s_1))
s_template_2=Template("${x}thon is amazing!")
s_2=s_template_2.substitute(x="py")
print("s_2=s_template_2.substitute(x=\"py\")->{}".format(s_2))
s_template_3=Template("$x and $y are both amazing!")
substitute_dict=dict([('x','Python'),('y','Grasshopper')])#多变量用dict对应
print("substitute_dict={}".format(substitute_dict))
s_3=s_template_3.substitute(substitute_dict)
print("s_3=s_template_3.substitute(substitute_dict)->{}".format(s_3))
s_1=s_template_1.substitute(x="Python")->Python,glorious,Python!
s_2=s_template_2.substitute(x="py")->python is amazing!
substitute_dict={'x': 'Python', 'y': 'Grasshopper'}
s_3=s_template_3.substitute(substitute_dict)->Python and Grasshopper are both amazing!
print('_'*50)
__________________________________________________
print("string-re正则表达式，可以匹配文本片段")
string-re正则表达式，可以匹配文本片段
import re
pattern_1='Python'#要找的
text="Hello Python!"#文本
print("re.findall(pattern_1,text)->{}".format(re.findall(pattern_1,text)))#find all 找到所有
pattern_2='python'#大小写不一样：找不到
print("re.findall(pattern_2,text)->{}".format(re.findall(pattern_2,text)))
re.findall(pattern_1,text)->['Python']
re.findall(pattern_2,text)->[]
print(".句号：匹配任何字符串，但换行符除外")
print("re.findall('.ython','Hello Python!')->{}".format(re.findall('.ython','Hello Python!')))#.为需要替换的
print("re.findall('.ython','Hello gython!')->{}".format(re.findall('.ython','Hello gython!')))
print("re.findall('.ython','Hello gPython!')->{}".format(re.findall('.ython','Hello gPython!')))#一个.匹配一个
print("re.findall('.ython','Hello Pthon!')->{}".format(re.findall('.ython','Hello Pthon!')))
.句号：匹配任何字符串，但换行符除外
re.findall('.ython','Hello Python!')->['Python']
re.findall('.ython','Hello gython!')->['gython']
re.findall('.ython','Hello gPython!')->['Python']
re.findall('.ython','Hello Pthon!')->[]
print("* + ？ {m,n}与r’string’")#?
print("re.findall(r'w?cadesign\.cn,w+\.cadesign\.cn','cadesign.cn,www.cadesign.cn')->{}".format(re.findall(r'w?cadesign\.cn,w+\.cadesign\.cn','cadesign.cn,www.cadesign.cn')))
print("re.findall(r'w{2}"+"\.cadesign\.cn','www.cadesign.cn')->{}".format(re.findall(r'w{2}\.cadesign\.cn','www.cadesign.cn')))
print("re.findall(r'w{1,3}"+"\.cadesign\.cn','www.cadesign.cn')->{}".format(re.findall(r'w{1,3}\.cadesign\.cn','www.cadesign.cn')))
* + ？ {m,n}与r’string’
re.findall(r'w?cadesign\.cn,w+\.cadesign\.cn','cadesign.cn,www.cadesign.cn')->['cadesign.cn,www.cadesign.cn']
re.findall(r'w{2}\.cadesign\.cn','www.cadesign.cn')->['ww.cadesign.cn']
re.findall(r'w{1,3}\.cadesign\.cn','www.cadesign.cn')->['www.cadesign.cn']
print("[] (^)")#只识别有thon的一个单词
print("re.findall('[Py]*thon!','Hello Python!')->{}".format(re.findall('[Py]*thon!','Hello Python!')))
print("re.findall('[Py]*thon!','Hello Pthon!')->{}".format(re.findall('[Py]*thon!','Hello Pthon!')))
print("re.findall('[Py]*thon!','Hello ython!')->{}".format(re.findall('[Py]*thon!','Hello ython!')))
print("re.findall('[Py]*thon!','Hello ython!')->{}".format(re.findall('[Py]*thon!','Hello thon!')))
[] (^)
re.findall('[Py]*thon!','Hello Python!')->['Python!']
re.findall('[Py]*thon!','Hello Pthon!')->['Pthon!']
re.findall('[Py]*thon!','Hello ython!')->['ython!']
re.findall('[Py]*thon!','Hello ython!')->['thon!']
print("\d \D")#d分后面 D分前面
print("re.findall('\d','number=10')->{}".format(re.findall('\d','number=10')))
print("re.findall('\D','number=10')->{}".format(re.findall('\D','number=10')))
print("re.findall('[^0-9]','number=10')->{}".format(re.findall('[^0-9]','number=10')))
print("(|)管道符号")#，后面是要识别提取分离出的
print("re.findall('python|grasshopper','python')->{}".format(re.findall('python|grasshopper','python')))
print("re.findall('python|grasshopper','grasshopper')->{}".format(re.findall('python|grasshopper','grasshopper')))
print("re.findall('python|grasshopper','grasshopper and python')->{}".format(re.findall('python|grasshopper','grasshopper and python')))
(|)管道符号
re.findall('python|grasshopper','python')->['python']
re.findall('python|grasshopper','grasshopper')->['grasshopper']
re.findall('python|grasshopper','grasshopper and python')->['grasshopper', 'python']
print("re模块的方法")
print("re.findall('[a-z]','python')->{}".format(re.findall('[a-z]','python-3.0')))#分离
print("re.search('[a-z]+','python')->{}".format(re.search('[a-z]+','python')))#位置 配对
if re.search('[a-z]+','python'):
    print("re.search('[a-z]+','python')->found it!")
print("re.split(',','Hello,,,,,,Python!')->{}".format(re.split(',','Hello,,,,,,Python!')))#split：分裂
print("re.sub('Python','Grasshopper','Hello Python!')->{}".format(re.sub('Python','Grasshopper','Hello Python!')))#替换
pattern_compile=re.compile('Python')
print("pattern_compile.findall('Hello,,,,,,Python!')->{}".format(pattern_compile.findall('Hello,,,,,,Python!')))
if re.match('p','python'):
    print("re.match('p','python')->found it!")
re模块的方法
re.findall('[a-z]','python')->['p', 'y', 't', 'h', 'o', 'n']
re.search('[a-z]+','python')-><re.Match object; span=(0, 6), match='python'>
re.search('[a-z]+','python')->found it!
re.split(',','Hello,,,,,,Python!')->['Hello', '', '', '', '', '', 'Python!']
re.sub('Python','Grasshopper','Hello Python!')->Hello Grasshopper!
pattern_compile.findall('Hello,,,,,,Python!')->['Python']
re.match('p','python')->found it!
print("\'python\'.find(\'python\')->{}".format('python'.find('python')))#查询从哪开始
print("\'python\'.find(\'thon\')->{}".format('python'.find('thon')))
print("\'python\'.find(\'a\')->{}".format('python'.find('a')))
print("\'p\' in \'python\'->{}".format('p' in 'python'))
'python'.find('python')->0
'python'.find('thon')->2
'python'.find('a')->-1
'p' in 'python'->True
print("\'Hello,,,,,,Python!\'.split(',')->{}".format( 'Hello,,,,,,Python!'.split(',')))#分离出单词
print("\'Hello Python!\'.replace(\'Python\',\'Grasshopper\')->{}".format( 'Hello Python!'.replace('Python','Grasshopper')))#替换
'Hello,,,,,,Python!'.split(',')->['Hello', '', '', '', '', '', 'Python!']
'Hello Python!'.replace('Python','Grasshopper')->Hello Grasshopper!
print("匹配对象和组")
print("通过m.group()方法返回组，m.start()方法获取组的开始索引值，m.end()则获取结束位置索引值，m.span()返回区间值。")
匹配对象和组
通过m.group()方法返回组，m.start()方法获取组的开始索引值，m.end()则获取结束位置索引值，m.span()返回区间值。
match_1=re.match(r'www\.(.*)\..{3}','www.python.org')
print("match_1.gourp(1)->{}".format(match_1.group(1)))#gourp是什么
print("match_1.start(1)->{}".format(match_1.start(1)))#开始位置
print("match_1.end(1)->{}".format(match_1.end(1)))#结尾位置
print("match_1.span(1)->{}".format(match_1.span(1)))#坐标（开始，结尾）
match_2=re.match(r'www\.(.*)\.(.{3})','www.python.org')
print("match_2.group(1)->{}".format(match_2.group(1)))
print("match_2.group(2)->{}".format(match_2.group(2)))
match_1.gourp(1)->python
match_1.start(1)->4
match_1.end(1)->10
match_1.span(1)->(4, 10)
match_2.group(1)->python
match_2.group(2)->org
print('_'*50)
__________________________________________________
print("循环语句")
print('for，while，while true/break循环')
print('迭代的工具')
print('并行迭代，编号迭代，list comprehension(列表推导式)')
循环语句
for，while，while true/break循环
迭代的工具
并行迭代，编号迭代，list comprehension(列表推导式)
print('for循环')  
lst_1=list(range(29,37,2))
print("lst_1={}".format(lst_1))
print("_"*50)
print("for i in lst_1:")
for i in lst_1:
    print(i)
print("for i in range(len(lst_1)):")
for i in range(len(lst_1)):
    print("idx={},val={}".format(i,lst_1[i]))
print("+"*50)   
dic_4=dict(a=2,b=3,c=6,d=0)#
print("dic_4={}".format(dic_4))
print("_"*50)
print("for k in dic_4:")
for k in dic_4:
    print(k)
print("for k,v in dic_4.items():")
for k,v in dic_4.items():#.items
    print("key={},val={}".format(k,v))
for循环
lst_1=[29, 31, 33, 35]
__________________________________________________
for i in lst_1:
29
31
33
35
for i in range(len(lst_1)):
idx=0,val=29
idx=1,val=31
idx=2,val=33
idx=3,val=35
++++++++++++++++++++++++++++++++++++++++++++++++++
dic_4={'a': 2, 'b': 3, 'c': 6, 'd': 0}
__________________________________________________
for k in dic_4:
a
b
c
d
for k,v in dic_4.items():
key=a,val=2
key=b,val=3
key=c,val=6
key=d,val=0
print('while循环')
x=1
while x<=100:#限制
    print("x={}".format(x))
    x+=10 #增量赋值
while循环
x=1
x=11
x=21
x=31
x=41
x=51
x=61
x=71
x=81
x=91
x=1
while x<=100:
    print("x={}".format(x))
    x+=10 
    if x>=50:break    
    
import sys
print("sys.maxsize={}".format(sys.maxsize))#超大的数
for i in range(sys.maxsize):
    print("i={}".format(i))
    i+=1
    if i>=30:break
x=1
x=11
x=21
x=31
x=41
sys.maxsize=9223372036854775807
i=0
i=1
i=2
i=3
i=4
i=5
i=6
i=7
i=8
i=9
i=10
i=11
i=12
i=13
i=14
i=15
i=16
i=17
i=18
i=19
i=20
i=21
i=22
i=23
i=24
i=25
i=26
i=27
i=28
i=29
x=1
while x<=100:
    print("x={}".format(x))
    x+=10 
    if x>=50:break    
    
import sys
print("sys.maxsize={}".format(sys.maxsize))#超大的数
for i in range(sys.maxsize):#i轮下去，如果i+10＞＝30就停止
    print("i={}".format(i))
    i+=10
    if i>=30:break
x=1
x=11
x=21
x=31
x=41
sys.maxsize=9223372036854775807
i=0
i=1
i=2
i=3
i=4
i=5
i=6
i=7
i=8
i=9
i=10
i=11
i=12
i=13
i=14
i=15
i=16
i=17
i=18
i=19
i=20
print('while true/break循环')
print('while true……if not……：break')
while true/break循环
while true……if not……：break
print('_'*50)
__________________________________________________
print('迭代的工具')
print('并行迭代')
迭代的工具
并行迭代
print('_'*50)
__________________________________________________
lst_a=[0,1,2,3]
lst_b=['point_a','point_b','point_c','point_d']
zip_lst=zip(lst_a,lst_b) #zip()函数需要可迭代函数（可以为零或其他），将它们聚合到一个元组中，并返回它。
print("zip_lst=zip(lst_a,lst_b)->{}".format(zip_lst))
print("dict(zip_lst)->{}".format(dict(zip_lst)))
zip_lst=zip(lst_a,lst_b) #迭代对象临时存储，读取完后为空
for a,b in zip_lst:
    print(a,b)
    
zip_lst=zip(lst_a,lst_b)
a,b=zip(*zip_lst)
print("a={},b={}".format(a,b))
zip_lst=zip(lst_a,lst_b)-><zip object at 0x00000162ECB82800>
dict(zip_lst)->{0: 'point_a', 1: 'point_b', 2: 'point_c', 3: 'point_d'}
0 point_a
1 point_b
2 point_c
3 point_d
a=(0, 1, 2, 3),b=('point_a', 'point_b', 'point_c', 'point_d')
print('编号迭代')
编号迭代
lst_c=['point_a','point_b','point_c','point_d']
dic_4={}
for idx,value in enumerate(lst_c):#enumerate列举
    dic_4[idx]=value
print("dic_4={}".format(dic_4))#制作dic
print("dict((i,v) for i,v in enumerate(lst_c))->{}".format(dict((i,v) for i,v in enumerate(lst_c)))) #list comprehension
print("_"*50)
for i,(a,b) in enumerate(zip(lst_a,lst_b)):#解压出来
    print('%d:%s,%s'%(i,a,b))
dic_4={0: 'point_a', 1: 'point_b', 2: 'point_c', 3: 'point_d'}
dict((i,v) for i,v in enumerate(lst_c))->{0: 'point_a', 1: 'point_b', 2: 'point_c', 3: 'point_d'}
__________________________________________________
0:0,point_a
1:1,point_b
2:2,point_c
3:3,point_d
print('list comprehension(列表推导式)')
print('[expr(val)为收集如果条件],新列表=[可迭代项的表达式如果条件==true],[如果条件表达式在条件>的项的其他表达式] ')
list comprehension(列表推导式)
[expr(val)为收集如果条件],新列表=[可迭代项的表达式如果条件==true],[如果条件表达式在条件>的项的其他表达式] 
print("[x*x for x in range(3,37,5) if x%2==0]->{}".format([x*x for x in range(3,37,5) if x%2==0]))#format里面写条件
print("[(x,y) for x in range(3)for y in range(2)]->{}".format([(x,y) for x in range(3)for y in range(2)]))
print("[(x,y) for x,y in zip(range(3),range(2))]->{}".format([(x,y) for x,y in zip(range(3),range(2))]))
nested_list=[[a for a in range(1,10,3)],2,3,[b for b in range(60,100,7)],[[c for c in range(1000,2000,120)],3,9]]
print("[[a for a in range(1,10,3)],2,3,[b for b in range(60,100,7)],[[c for c in range(1000,2000,120)],3,9]]->{}".format(nested_list)) #嵌套列表推导式
​
flatten_lst=lambda lst: [m for n_lst in lst for m in flatten_lst(n_lst)] if type(lst) is list else [lst] #难难，展平列表常用，可以放置到单独的.lambda是函数
print("flatten_lst(nested_list)->{}".format(flatten_lst(nested_list)))
[x*x for x in range(3,37,5) if x%2==0]->[64, 324, 784]
[(x,y) for x in range(3)for y in range(2)]->[(0, 0), (0, 1), (1, 0), (1, 1), (2, 0), (2, 1)]
[(x,y) for x,y in zip(range(3),range(2))]->[(0, 0), (1, 1)]
[[a for a in range(1,10,3)],2,3,[b for b in range(60,100,7)],[[c for c in range(1000,2000,120)],3,9]]->[[1, 4, 7], 2, 3, [60, 67, 74, 81, 88, 95], [[1000, 1120, 1240, 1360, 1480, 1600, 1720, 1840, 1960], 3, 9]]
flatten_lst(nested_list)->[1, 4, 7, 2, 3, 60, 67, 74, 81, 88, 95, 1000, 1120, 1240, 1360, 1480, 1600, 1720, 1840, 1960, 3, 9]
print('_'*50)
__________________________________________________
print("条件语句")
条件语句
print("条件语句模式")
#if expression:
    #statements
#elif expression:#elif=else if
    3statements
#elif expression:
    #pass
#...
#else:
    #statements
x=11
if x<0:
    print('It is negative.')
elif x==0:
    print('Equal to zero.')
elif 0<x<10:
    print('Positive but smaller than 10')
else:
    print('Positive and larger than or equal to 10.')
Positive and larger than or equal to 10.
x=y=[1,2,3]
z=[1,2,3]
print("x==y->{}".format(x==y))
print("x is y->{}".format(x is y))
print("x==z->{}".format(x==z))
print("x is z->{}".format(x is z))#没有连等
print("x is not y->{}".format(x is not y))
print("x is not z->{}".format(x is not z))#没有连等
print("id_x:{};id_y:{};id_z:{}".format(id(x),id(y),id(z)))
del x[2]#删除二项（从0开始数）
print("x={},y={},z={} after del x[2]".format(x,y,z))
x==y->True
x is y->True
x==z->True
x is z->False
x is not y->False
x is not z->True
id_x:1524389028992;id_y:1524389028992;id_z:1524389029696
x=[1, 2],y=[1, 2],z=[1, 2, 3] after del x[2]
print("布尔运算符")
a,b,c=0,60,15
if c>a and c<b:
    print('a<c<b')
else: print('a<c<b kidding!!!')
布尔运算符
a<c<b
print('_'*50)
__________________________________________________
print("函数")
print("定义函数")
#def function(arguments):
    #statement
    #...
    #return values
函数
定义函数
def simple_func(x,y):
    z=pow(x,3)+y#z=x^2+y
    return z
print("simple_func(3,7)->{}".format(simple_func(3,7)))#默认前面x，后面y
print("simple_func(7,3)->{}".format(simple_func(7,3)))
print("simple_func(y=7,x=3)->{}".format(simple_func(y=7,x=3)))
simple_func(3,7)->34
simple_func(7,3)->346
simple_func(y=7,x=3)->34
print("定义斐波那契数列(Successione di Fibonacci)函数")
print('数学定义')
#F_0=0
#F_1=1
#F_n=F_{n-1}+ F_{n-2}（n≧2）
#例如0, 1, 1, 2, 3, 5, 8, 13, 21, 34, 55, 89, 144, 233……
定义斐波那契数列(Successione di Fibonacci)函数
数学定义
def fibonacci(s,count): 
    fib_lst=[0,1]
    fib_part=[]
    if s==0 or s==1:
        fib_part[:]=fib_lst
        for i in range(count-2):
            fib_part.append(fib_part[-1]+fib_part[-2])
    else:
        while True:
            fib_lst[:]=[fib_lst[1],fib_lst[0]+fib_lst[1]]
            #print(fib_lst)
            if fib_lst[1]-s>=0:break
        fib_part[:]=fib_lst
        if abs(fib_lst[0]-s)>=abs(fib_lst[1]-s):
            for i in range(count-1):
                fib_part.append(fib_part[-1]+fib_part[-2])
            fib_part.pop(0)
        else:
            for i in range(count-2):
                fib_part.append(fib_part[-1]+fib_part[-2])
    return fib_part
​
print("fibonacci(6,9)->{}".format(fibonacci(6,9)))
print("fibonacci(7,9)->{}".format(fibonacci(7,9)))
fibonacci(6,9)->[5, 8, 13, 21, 34, 55, 89, 144, 233]
fibonacci(7,9)->[8, 13, 21, 34, 55, 89, 144, 233, 377]
print('递归')
递归
def factorial(n):
    if n==1:
        return 1
    else:
        return n*factorial(n-1)
print(factorial(8))
40320
print('_'*50)
__________________________________________________
print('类class')
print('定义类')
类class
class Bird:
    fly='Whirring' #美 /wɜːr/ 
    def __init__(self):
        self.hungry=True
    def eat(self):
        if self.hungry:
            print('Aaaah...')
            self.hungry=False
        else:
            print('No.Thanks!')
​
class Apodidae(Bird):  #/'æpədədi:/
    def __init__(self):
        super(Apodidae,self).__init__()
        self.sound='Squawk!' #美 /skwɔːk/ 
    def sing(self):
        print(self.sound)
swift=Apodidae()
print("swift.fly->{}".format(swift.fly))
print("swift.eat()->")
swift.eat()
print("swift.eat()->")
swift.eat()
print("swift.sing()->")
swift.sing()
swift.fly->Whirring
swift.eat()->
Aaaah...
swift.eat()->
No.Thanks!
swift.sing()->
Squawk!
print('_'*50)
__________________________________________________
print('迭代+迭代器')
迭代+迭代器
class Fibs():
    def __init__(self):
        self.a=0
        self.b=1
    def next(self):
        self.a,self.b=self.b,self.a+self.b
        return self.a
    def __iter__(self):
        return self
f=Fibs()
fa=[]
fb=[]
for i in range(9):
    fa.append(f.next())
print("fa={}".format(fa))
for i in range(5):
    fb.append(f.next())
print("fb={}".format(fb))
fa=[1, 1, 2, 3, 5, 8, 13, 21, 34]
fb=[55, 89, 144, 233, 377]
lst_d=list(range(3,20,2))
print("lst_d={}".format(lst_d))
print("_"*50)
lst_iter=iter(lst_d)
print("next(lst_iter)->{}".format(next(lst_iter)))
print("next(lst_iter)->{}".format(next(lst_iter)))
for i in lst_iter:
    print(i)
​
lst_d=[3, 5, 7, 9, 11, 13, 15, 17, 19]
__________________________________________________
next(lst_iter)->3
next(lst_iter)->5
7
9
11
13
15
17
19
print('生成器')
生成器
lst_e=[list(range(3,20,3)),[3,7,67,list(range(5)),89]]
print("lst_e={}".format(lst_e))
print("_"*50)
flatten_lst=[]
for v_1 in lst_e:
    try:
        for v_2 in v_1:
            try:
                for v_3 in v_2:
                    flatten_lst.append(v_3)
            except TypeError:
                flatten_lst.append(v_2)
    except TypeError:
        flatten_lst.append(v_1)
print("flatten_lst={}".format(flatten_lst))
lst_e=[[3, 6, 9, 12, 15, 18], [3, 7, 67, [0, 1, 2, 3, 4], 89]]
__________________________________________________
flatten_lst=[3, 6, 9, 12, 15, 18, 3, 7, 67, 0, 1, 2, 3, 4, 89]
print('_'*50)
__________________________________________________
print('异常')
#try:
    #do something
#except:
    #do something
    
#try:
    #do something
#except TypeError:
    #do something
#except ValueError:
    #do something
    
#try:
    #do something
#except (TypeError, ValueError ):
    #do something
    
#try:
    #do something
#except (TypeError, ValueError ) as e:
    #do something
    
#def f_convert_f(x):
#try:
    #return float(x)
#except ValueError as e:
    #pass  #忽略异常
    
#def f_open_a(fp):
#try:
    #do something
#except IOError as e:
    #do something
#else:
    #do something
异常
def f_convert_a(x):
    try:
        return float(x)
    except:
        return x
print("f_convert_a('3.1415')->{}".format(f_convert_a('3.1415')))    
print("f_convert_a('string')->{}".format(f_convert_a('string')))  
print("f_convert_a(3,6,7)->{}".format(f_convert_a((3,6,7))))  
f_convert_a('3.1415')->3.1415
f_convert_a('string')->string
f_convert_a(3,6,7)->(3, 6, 7)
def f_convert_d(x):
    try:
        return float(x)
    except (ValueError,TypeError):
        print(x,'ValueError or TypeError')
print("f_convert_d('3.1415')->{}".format(f_convert_d('3.1415')))    
print("f_convert_d('string')->{}".format(f_convert_d('string')))  
print("f_convert_d(3,6,7)->{}".format(f_convert_d((3,6,7)))) 
f_convert_d('3.1415')->3.1415
string ValueError or TypeError
f_convert_d('string')->None
(3, 6, 7) ValueError or TypeError
f_convert_d(3,6,7)->None
def f_convert_e(x):#排除异常法
    try:
        return float(x)
    except (ValueError,TypeError) as e:
        return print(x,e)
print("f_convert_e('3.1415')->{}".format(f_convert_e('3.1415')))    
print("f_convert_e('string')->{}".format(f_convert_e('string')))  
print("f_convert_e(3,6,7)->{}".format(f_convert_e((3,6,7))))    
f_convert_e('3.1415')->3.1415
string could not convert string to float: 'string'
f_convert_e('string')->None
(3, 6, 7) float() argument must be a string or a number, not 'tuple'
f_convert_e(3,6,7)->None
def f_convert_f(x):#pass忽略异常
    try:
        return float(x)
    except (ValueError,TypeError) as e:
        pass
print("f_convert_f('3.1415')->{}".format(f_convert_f('3.1415')))    
print("f_convert_f('string')->{}".format(f_convert_f('string')))  
print("f_convert_f(3,6,7)->{}".format(f_convert_f((3,6,7))))     
f_convert_f('3.1415')->3.1415
f_convert_f('string')->None
f_convert_f(3,6,7)->None

